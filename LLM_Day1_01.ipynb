{
  "nbformat": 4,
  "nbformat_minor": 0,
  "metadata": {
    "colab": {
      "provenance": []
    },
    "kernelspec": {
      "name": "python3",
      "display_name": "Python 3"
    },
    "language_info": {
      "name": "python"
    }
  },
  "cells": [
    {
      "cell_type": "code",
      "source": [
        "from transformers import pipeline\n",
        "\n",
        "generation = pipeline('text-generation')\n",
        "res=generation('write a book about AI')\n",
        "print(res[0]['generated_text'])\n"
      ],
      "metadata": {
        "colab": {
          "base_uri": "https://localhost:8080/"
        },
        "id": "EVRu3fIl2CHz",
        "outputId": "95234ff7-5487-4a2e-83bf-d47095231022"
      },
      "execution_count": 8,
      "outputs": [
        {
          "output_type": "stream",
          "name": "stderr",
          "text": [
            "No model was supplied, defaulted to gpt2 and revision 6c0e608 (https://huggingface.co/gpt2).\n",
            "Using a pipeline without specifying a model name and revision in production is not recommended.\n",
            "Setting `pad_token_id` to `eos_token_id`:50256 for open-end generation.\n"
          ]
        },
        {
          "output_type": "stream",
          "name": "stdout",
          "text": [
            "write a book about AI, they have to do a lot of work. But the good thing is that we can do it for our society if we want to.\"\n",
            "\n",
            "In a statement released late Saturday, AI is working within the confines of our\n"
          ]
        }
      ]
    },
    {
      "cell_type": "code",
      "source": [
        "from transformers import pipeline\n",
        "\n",
        "generation = pipeline('sentiment-analysis')\n",
        "\n",
        "print(generation('I love spending time with family abd friends')[0]['label'])\n",
        "\n",
        "print(generation('I hate talking to haters')[0]['label'])\n",
        "\n",
        "print(generation('I am feeling indiffrent about the upcoming changes at work')[0]['label'])\n"
      ],
      "metadata": {
        "colab": {
          "base_uri": "https://localhost:8080/"
        },
        "id": "1AmwBixI8CqQ",
        "outputId": "73f72acc-7023-426a-8dca-87cd04fdf83f"
      },
      "execution_count": 13,
      "outputs": [
        {
          "output_type": "stream",
          "name": "stderr",
          "text": [
            "No model was supplied, defaulted to distilbert-base-uncased-finetuned-sst-2-english and revision af0f99b (https://huggingface.co/distilbert-base-uncased-finetuned-sst-2-english).\n",
            "Using a pipeline without specifying a model name and revision in production is not recommended.\n"
          ]
        },
        {
          "output_type": "stream",
          "name": "stdout",
          "text": [
            "POSITIVE\n",
            "NEGATIVE\n",
            "NEGATIVE\n"
          ]
        }
      ]
    },
    {
      "cell_type": "code",
      "source": [],
      "metadata": {
        "id": "MmKxMjvz_7fX"
      },
      "execution_count": null,
      "outputs": []
    }
  ]
}